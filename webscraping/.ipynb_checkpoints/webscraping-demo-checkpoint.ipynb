{
 "cells": [
  {
   "cell_type": "markdown",
   "metadata": {},
   "source": [
    "<center>\n",
    "    <img src=\"https://s3.amazonaws.com/weclouddata/images/logos/wcd_logo.png\" width=\"50%\">\n",
    "</center>\n",
    "\n",
    "----------\n",
    "\n",
    "<h1 align=\"center\"> Web Scraping Tutorial </h1>\n",
    "<br>\n",
    "<center align=\"left\"> <font size='4'>  Developed by: </font><font size='4' color='#33AAFBD'>WeCloudData Academy </font></center>\n",
    "<br>\n",
    "<center align=\"left\"> <font size='4' color='#FF5713'> Accelerating your data science career! </font></center>\n",
    "<br>\n",
    "\n",
    "---------"
   ]
  },
  {
   "cell_type": "markdown",
   "metadata": {},
   "source": [
    "### In this exercise, we will learn how to achieve some simple web scraping tasks:\n",
    "1. Use the `requests` library to retrieve data science jobs from indeed.com\n",
    "2. Use beautifulsoup to parse the HTML results and extract company info\n",
    "3. Calculate the number of DS related jobs each company is hiring for"
   ]
  },
  {
   "cell_type": "code",
   "execution_count": 1,
   "metadata": {},
   "outputs": [],
   "source": [
    "# imports\n",
    "\n",
    "from bs4 import BeautifulSoup # For HTML parsing\n",
    "import requests # Website connections\n",
    "from time import sleep # To prevent overwhelming the server between connections\n",
    "from collections import Counter # Keep track of our term counts\n",
    "import pandas as pd # For converting results to a dataframe and bar chart plots\n",
    "import json # For parsing json\n",
    "%matplotlib inline"
   ]
  },
  {
   "cell_type": "markdown",
   "metadata": {},
   "source": [
    "### Documentation links\n",
    "\n",
    "- requests:\n",
    "http://docs.python-requests.org/en/master/user/quickstart/\n",
    "\n",
    "- beautifulsoup:\n",
    "https://www.crummy.com/software/BeautifulSoup/bs4/doc/"
   ]
  },
  {
   "cell_type": "markdown",
   "metadata": {},
   "source": [
    "# $\\Delta$ Getting a Page\n",
    "\n",
    "We're going to be using the `requests` library to make a request to Indeed and get the page contents. We can then use Beautifulsoup to parse the returned html."
   ]
  },
  {
   "cell_type": "markdown",
   "metadata": {},
   "source": [
    "### Making a request"
   ]
  },
  {
   "cell_type": "code",
   "execution_count": 2,
   "metadata": {},
   "outputs": [],
   "source": [
    "page_url = 'https://ca.indeed.com/jobs?q=machine+learning&l=toronto,+ON'"
   ]
  },
  {
   "cell_type": "markdown",
   "metadata": {},
   "source": [
    "### Request Status"
   ]
  },
  {
   "cell_type": "markdown",
   "metadata": {},
   "source": [
    "### Get the page headers"
   ]
  },
  {
   "cell_type": "markdown",
   "metadata": {},
   "source": [
    "### Get the page content"
   ]
  },
  {
   "cell_type": "markdown",
   "metadata": {},
   "source": [
    "### Make a Beautiful soup object to parse the contents"
   ]
  },
  {
   "cell_type": "markdown",
   "metadata": {},
   "source": [
    "## $\\Omega$ Exercise\n",
    "\n",
    "- Write a function called `get_page` that takes `job_title`, `city`, and `province` as parameters\n",
    "- Build the url with these parameters\n",
    "- Make a request to the url\n",
    "- Convert it to a soup object\n",
    "- Return the soup object"
   ]
  },
  {
   "cell_type": "markdown",
   "metadata": {},
   "source": [
    "# $\\Delta$ Parsing html with Beautifulsoup"
   ]
  },
  {
   "cell_type": "markdown",
   "metadata": {},
   "source": [
    "### Selecting html tags"
   ]
  },
  {
   "cell_type": "markdown",
   "metadata": {},
   "source": [
    "## $\\Omega$ Exercise\n",
    "\n",
    "- Get the total number of jobs as an integer"
   ]
  },
  {
   "cell_type": "markdown",
   "metadata": {},
   "source": [
    "### Selecting nested tags"
   ]
  },
  {
   "cell_type": "markdown",
   "metadata": {},
   "source": [
    "### Selecting multiple html tags"
   ]
  },
  {
   "cell_type": "markdown",
   "metadata": {},
   "source": [
    "## $\\Omega$ Exercise\n",
    "\n",
    "- Get all job titles on the page"
   ]
  },
  {
   "cell_type": "markdown",
   "metadata": {},
   "source": [
    "# $\\Delta$ Scraping Multiple Pages"
   ]
  },
  {
   "cell_type": "markdown",
   "metadata": {},
   "source": [
    "## $\\Omega$ Exercise\n",
    "\n",
    "- Update the `get_page` function so it also takes `page` as a parameter\n",
    "- Update the url with `page` so it coresponds to right number, ex.\n",
    "    - page 1 => 0\n",
    "    - page 2 => 10\n",
    "    - page 3 => 20\n",
    "    - etc."
   ]
  },
  {
   "cell_type": "markdown",
   "metadata": {},
   "source": [
    "### Get the company names from the first 3 pages"
   ]
  },
  {
   "cell_type": "markdown",
   "metadata": {},
   "source": [
    "## $\\Omega$ Exercise\n",
    "\n",
    "- Get all the companies from all the pages (hint: use the page number)\n",
    "- Get the top 10 companies by frequency"
   ]
  },
  {
   "cell_type": "markdown",
   "metadata": {},
   "source": [
    "# $\\Delta$ Getting data from an API\n",
    "\n",
    "> In computer programming, an application programming interface (API) is a set of subroutine definitions, communication protocols, and tools for building software. In general terms, it is a set of clearly defined methods of communication among various components. A good API makes it easier to develop a computer program by providing all the building blocks, which are then put together by the programmer."
   ]
  },
  {
   "cell_type": "markdown",
   "metadata": {},
   "source": [
    "### Movie API\n",
    "\n",
    "http://www.omdbapi.com/"
   ]
  },
  {
   "cell_type": "markdown",
   "metadata": {},
   "source": [
    "### Show response text"
   ]
  },
  {
   "cell_type": "markdown",
   "metadata": {},
   "source": [
    "### Read json as Python dictionary"
   ]
  },
  {
   "cell_type": "markdown",
   "metadata": {},
   "source": [
    "### Multiple string query"
   ]
  },
  {
   "cell_type": "markdown",
   "metadata": {},
   "source": [
    "## $\\Omega$ Exercise\n",
    "\n",
    "- Try and use the `Search` parameter of the api to get **all** the Titanic movies\n",
    "- Print the poster image of every movie (**hint:** You can use `Ipython.display` to print images"
   ]
  },
  {
   "cell_type": "code",
   "execution_count": 40,
   "metadata": {},
   "outputs": [
    {
     "data": {
      "image/png": "[encoded data removed]",
      "text/plain": [
       "<IPython.core.display.Image object>"
      ]
     },
     "metadata": {},
     "output_type": "display_data"
    }
   ],
   "source": [
    "# Display image example\n",
    "\n",
    "from IPython.display import Image, display\n",
    "\n",
    "display(Image('https://s3.amazonaws.com/weclouddata/images/logos/wcd_logo.png'))"
   ]
  },
  {
   "cell_type": "markdown",
   "metadata": {
    "collapsed": true
   },
   "source": [
    "# Project instructions\n",
    "\n",
    "* Acquire data from a website of your choice; you can either use the scraper code given in this notebook, or use API to fetch data\n",
    "* Perform some analyses to find intellience in the data you just scraped, similar to what we have done here\n",
    "* Complete the project as a group of 2-4\n",
    "\n",
    "Examples of things you can do:\n",
    "1. Get data from autotrader, explore what contributes to the value of the cars\n",
    "1. Scrape lakes in Ontario, find out their fishing zone (https://www.ontario.ca/page/fishing), and regulations such as catch-and-release\n",
    "1. Scrape nutrition facts of food, and find out the optimal nutrients for a person"
   ]
  }
 ],
 "metadata": {
  "anaconda-cloud": {},
  "kernelspec": {
   "display_name": "Python 3",
   "language": "python",
   "name": "python3"
  },
  "language_info": {
   "codemirror_mode": {
    "name": "ipython",
    "version": 3
   },
   "file_extension": ".py",
   "mimetype": "text/x-python",
   "name": "python",
   "nbconvert_exporter": "python",
   "pygments_lexer": "ipython3",
   "version": "3.7.4"
  }
 },
 "nbformat": 4,
 "nbformat_minor": 1
}
